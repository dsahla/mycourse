{
  "nbformat": 4,
  "nbformat_minor": 0,
  "metadata": {
    "kernelspec": {
      "display_name": "Python 3",
      "language": "python",
      "name": "python3"
    },
    "language_info": {
      "codemirror_mode": {
        "name": "ipython",
        "version": 3
      },
      "file_extension": ".py",
      "mimetype": "text/x-python",
      "name": "python",
      "nbconvert_exporter": "python",
      "pygments_lexer": "ipython3",
      "version": "3.8.5"
    },
    "colab": {
      "name": "Week 5 - Embeddings.ipynb",
      "provenance": []
    }
  },
  "cells": [
    {
      "cell_type": "code",
      "metadata": {
        "id": "SshMcSdiDoJo"
      },
      "source": [
        "#Adapted from the Keras Example https://keras.io/examples/structured_data/collaborative_filtering_movielens/"
      ],
      "execution_count": 2,
      "outputs": []
    },
    {
      "cell_type": "code",
      "metadata": {
        "id": "EZCywe28DoJr"
      },
      "source": [
        "import pandas as pd\n",
        "import numpy as np\n",
        "import tensorflow as tf\n",
        "from tensorflow import keras\n",
        "from tensorflow.keras import layers\n",
        "from pathlib import Path\n",
        "import matplotlib.pyplot as plt"
      ],
      "execution_count": 3,
      "outputs": []
    },
    {
      "cell_type": "markdown",
      "metadata": {
        "id": "B2oHoHZVDoJr"
      },
      "source": [
        "# Week 5 - Embeddings for Recommendation \n",
        "\n",
        "Here we'll see how to train our simple **Dot Product** model, along with our **user embeddings** and **item embeddings** using the **Keras** library. As before, we'll be checking out the **MovieLens** dataset \n",
        "\n",
        "## Loading in the Dataset\n",
        "\n",
        "First we load in the small version of the dataset. As this is a **Collaborative Filtering** approach, we are interested in the **ratings.csv**, which has all over ratings made by each user."
      ]
    },
    {
      "cell_type": "code",
      "metadata": {
        "id": "VVQWownSERZM"
      },
      "source": [
        "url = 'https://raw.githubusercontent.com/dsahla/mycourse/main/ratings.csv'"
      ],
      "execution_count": 6,
      "outputs": []
    },
    {
      "cell_type": "code",
      "metadata": {
        "id": "Jt3ElZNKDoJs"
      },
      "source": [
        "df = pd.read_csv(url)"
      ],
      "execution_count": 7,
      "outputs": []
    },
    {
      "cell_type": "code",
      "metadata": {
        "id": "2iDBQE2sEQul"
      },
      "source": [
        ""
      ],
      "execution_count": null,
      "outputs": []
    },
    {
      "cell_type": "code",
      "metadata": {
        "colab": {
          "base_uri": "https://localhost:8080/",
          "height": 359
        },
        "id": "QkwIcHnhDoJs",
        "outputId": "583219ad-34c3-47f0-b518-f344e52e0eda"
      },
      "source": [
        "df.tail(10)"
      ],
      "execution_count": 8,
      "outputs": [
        {
          "output_type": "execute_result",
          "data": {
            "text/html": [
              "<div>\n",
              "<style scoped>\n",
              "    .dataframe tbody tr th:only-of-type {\n",
              "        vertical-align: middle;\n",
              "    }\n",
              "\n",
              "    .dataframe tbody tr th {\n",
              "        vertical-align: top;\n",
              "    }\n",
              "\n",
              "    .dataframe thead th {\n",
              "        text-align: right;\n",
              "    }\n",
              "</style>\n",
              "<table border=\"1\" class=\"dataframe\">\n",
              "  <thead>\n",
              "    <tr style=\"text-align: right;\">\n",
              "      <th></th>\n",
              "      <th>userId</th>\n",
              "      <th>movieId</th>\n",
              "      <th>rating</th>\n",
              "      <th>timestamp</th>\n",
              "    </tr>\n",
              "  </thead>\n",
              "  <tbody>\n",
              "    <tr>\n",
              "      <th>99994</th>\n",
              "      <td>671</td>\n",
              "      <td>5952</td>\n",
              "      <td>5.0</td>\n",
              "      <td>1063502716</td>\n",
              "    </tr>\n",
              "    <tr>\n",
              "      <th>99995</th>\n",
              "      <td>671</td>\n",
              "      <td>5989</td>\n",
              "      <td>4.0</td>\n",
              "      <td>1064890625</td>\n",
              "    </tr>\n",
              "    <tr>\n",
              "      <th>99996</th>\n",
              "      <td>671</td>\n",
              "      <td>5991</td>\n",
              "      <td>4.5</td>\n",
              "      <td>1064245387</td>\n",
              "    </tr>\n",
              "    <tr>\n",
              "      <th>99997</th>\n",
              "      <td>671</td>\n",
              "      <td>5995</td>\n",
              "      <td>4.0</td>\n",
              "      <td>1066793014</td>\n",
              "    </tr>\n",
              "    <tr>\n",
              "      <th>99998</th>\n",
              "      <td>671</td>\n",
              "      <td>6212</td>\n",
              "      <td>2.5</td>\n",
              "      <td>1065149436</td>\n",
              "    </tr>\n",
              "    <tr>\n",
              "      <th>99999</th>\n",
              "      <td>671</td>\n",
              "      <td>6268</td>\n",
              "      <td>2.5</td>\n",
              "      <td>1065579370</td>\n",
              "    </tr>\n",
              "    <tr>\n",
              "      <th>100000</th>\n",
              "      <td>671</td>\n",
              "      <td>6269</td>\n",
              "      <td>4.0</td>\n",
              "      <td>1065149201</td>\n",
              "    </tr>\n",
              "    <tr>\n",
              "      <th>100001</th>\n",
              "      <td>671</td>\n",
              "      <td>6365</td>\n",
              "      <td>4.0</td>\n",
              "      <td>1070940363</td>\n",
              "    </tr>\n",
              "    <tr>\n",
              "      <th>100002</th>\n",
              "      <td>671</td>\n",
              "      <td>6385</td>\n",
              "      <td>2.5</td>\n",
              "      <td>1070979663</td>\n",
              "    </tr>\n",
              "    <tr>\n",
              "      <th>100003</th>\n",
              "      <td>671</td>\n",
              "      <td>6565</td>\n",
              "      <td>3.5</td>\n",
              "      <td>1074784724</td>\n",
              "    </tr>\n",
              "  </tbody>\n",
              "</table>\n",
              "</div>"
            ],
            "text/plain": [
              "        userId  movieId  rating   timestamp\n",
              "99994      671     5952     5.0  1063502716\n",
              "99995      671     5989     4.0  1064890625\n",
              "99996      671     5991     4.5  1064245387\n",
              "99997      671     5995     4.0  1066793014\n",
              "99998      671     6212     2.5  1065149436\n",
              "99999      671     6268     2.5  1065579370\n",
              "100000     671     6269     4.0  1065149201\n",
              "100001     671     6365     4.0  1070940363\n",
              "100002     671     6385     2.5  1070979663\n",
              "100003     671     6565     3.5  1074784724"
            ]
          },
          "metadata": {
            "tags": []
          },
          "execution_count": 8
        }
      ]
    },
    {
      "cell_type": "markdown",
      "metadata": {
        "id": "qoHosPdZDoJt"
      },
      "source": [
        "## Preprocessing \n",
        "\n",
        "What we have in the dataset is a list of **userId** and **movieId** pairs loaded into a ``Pandas`` DataFrame. \n",
        "\n",
        "As we said before, you can think of an embedding layer as a **one-hot encoding** layer the size of your **vocabulary**, followed by a **fully connected layer** the size of your embedding. \n",
        "\n",
        "When we make the embedding, we will need a way of mapping back from **indexes** in the **one-hot encoding** back to the ids for the users and movies. \n",
        "\n",
        "### Vocabulary \n",
        "\n",
        "In order to make the vocabulary (all the unique ids), we can use the ``unique()`` function in ``Pandas``"
      ]
    },
    {
      "cell_type": "code",
      "metadata": {
        "id": "gon4bT8XDoJt"
      },
      "source": [
        "user_ids = df[\"userId\"].unique().tolist()\n",
        "movie_ids = df[\"movieId\"].unique().tolist()"
      ],
      "execution_count": 9,
      "outputs": []
    },
    {
      "cell_type": "code",
      "metadata": {
        "colab": {
          "base_uri": "https://localhost:8080/"
        },
        "id": "aFvxvaIKDoJu",
        "outputId": "a9e4d6b1-274e-463d-ec38-a5445e289cbb"
      },
      "source": [
        "len(movie_ids)"
      ],
      "execution_count": 10,
      "outputs": [
        {
          "output_type": "execute_result",
          "data": {
            "text/plain": [
              "9066"
            ]
          },
          "metadata": {
            "tags": []
          },
          "execution_count": 10
        }
      ]
    },
    {
      "cell_type": "code",
      "metadata": {
        "colab": {
          "base_uri": "https://localhost:8080/"
        },
        "id": "Bev-ryGbDoJu",
        "outputId": "53d76eea-37d0-4a55-a053-db55a7e69e90"
      },
      "source": [
        "#Non-sequential list of ids\n",
        "movie_ids[:6]"
      ],
      "execution_count": 11,
      "outputs": [
        {
          "output_type": "execute_result",
          "data": {
            "text/plain": [
              "[31, 1029, 1061, 1129, 1172, 1263]"
            ]
          },
          "metadata": {
            "tags": []
          },
          "execution_count": 11
        }
      ]
    },
    {
      "cell_type": "markdown",
      "metadata": {
        "id": "CPblkLheDoJu"
      },
      "source": [
        "### Dictionary Comprehensions \n",
        "\n",
        "We've seen ``Dictionaries`` (e.g. when looking at JSON from REST APIs). This is a collection like a ``List``, but instead of using indexes to access data (**values**), we use **keys**. \n",
        "\n",
        "We've also seen ``List Comprehensions``, a short hand way to iterate through an existing collection and make a new ``List``. \n",
        "\n",
        "As we want something where we can use an arbitrary string/number (e.g. a movie or user id) to look up an index, a ``Dictionary`` seems like a good data structure to use. We can declare dictionaries manually (see below), but it would be much quicker and cleaner to use the information we already have to make this.\n"
      ]
    },
    {
      "cell_type": "code",
      "metadata": {
        "colab": {
          "base_uri": "https://localhost:8080/"
        },
        "id": "zt4ghJpDDoJu",
        "outputId": "b5b9aa28-d37e-4f0e-de7a-5166d421c1a6"
      },
      "source": [
        "#Manually making the dictionary\n",
        "movie_id_to_index = {\n",
        "    31: 1,\n",
        "    1029: 2,\n",
        "    1061: 3\n",
        "}\n",
        "#Use a movie id to look up an index\n",
        "movie_id_to_index[31]"
      ],
      "execution_count": 12,
      "outputs": [
        {
          "output_type": "execute_result",
          "data": {
            "text/plain": [
              "1"
            ]
          },
          "metadata": {
            "tags": []
          },
          "execution_count": 12
        }
      ]
    },
    {
      "cell_type": "markdown",
      "metadata": {
        "id": "zLSD6YpHDoJv"
      },
      "source": [
        "Like the ``List Comprehension``, the ``Dictionary Comprehension`` iterates through a given collection, does some calculation and stores new values in a new collection. \n",
        "\n",
        "In this case, we need to return both a ``Key`` and a ``Value`` for each item. \n",
        "\n",
        "```\n",
        "a = [1,2,3]\n",
        "b = {i:i+1 for i in a} \n",
        "```\n",
        "\n",
        "is the same as \n",
        "\n",
        "```\n",
        "a = [1,2,3]\n",
        "b = {}\n",
        "for i in a:\n",
        "    b[i] = i+1\n",
        "```\n",
        "\n",
        "where we end up with the ``Dictionary``\n",
        "\n",
        "```\n",
        "{\n",
        "    1: 2,\n",
        "    2: 3,\n",
        "    3: 4\n",
        "}\n",
        "```\n",
        "\n",
        "Below, we combine the dictionary comprehension with the ``enumerate()`` function to return the id (x) and the index (i) and store them in a new dictionary "
      ]
    },
    {
      "cell_type": "code",
      "metadata": {
        "id": "ehRfiSBuDoJv"
      },
      "source": [
        "#Make a dictionary mapping ids (keys) to indexes (values)\n",
        "user_id_to_index = {x: i for i, x in enumerate(user_ids)}\n",
        "movie_id_to_index = {x: i for i, x in enumerate(movie_ids)}"
      ],
      "execution_count": 14,
      "outputs": []
    },
    {
      "cell_type": "code",
      "metadata": {
        "id": "zLe7-k3mDoJv"
      },
      "source": [
        "#Make a new column in the dataframe which contains the appropriate index for each user and movie\n",
        "df[\"user_index\"] = [user_id_to_index[i] for i in df[\"userId\"]]\n",
        "df[\"movie_index\"] = [movie_id_to_index[i] for i in df[\"movieId\"]]"
      ],
      "execution_count": 15,
      "outputs": []
    },
    {
      "cell_type": "code",
      "metadata": {
        "colab": {
          "base_uri": "https://localhost:8080/",
          "height": 204
        },
        "id": "UTTRiHg7DoJw",
        "outputId": "ee86d009-a992-4099-d5a1-e94265ef2309"
      },
      "source": [
        "df.head(5)"
      ],
      "execution_count": 16,
      "outputs": [
        {
          "output_type": "execute_result",
          "data": {
            "text/html": [
              "<div>\n",
              "<style scoped>\n",
              "    .dataframe tbody tr th:only-of-type {\n",
              "        vertical-align: middle;\n",
              "    }\n",
              "\n",
              "    .dataframe tbody tr th {\n",
              "        vertical-align: top;\n",
              "    }\n",
              "\n",
              "    .dataframe thead th {\n",
              "        text-align: right;\n",
              "    }\n",
              "</style>\n",
              "<table border=\"1\" class=\"dataframe\">\n",
              "  <thead>\n",
              "    <tr style=\"text-align: right;\">\n",
              "      <th></th>\n",
              "      <th>userId</th>\n",
              "      <th>movieId</th>\n",
              "      <th>rating</th>\n",
              "      <th>timestamp</th>\n",
              "      <th>user_index</th>\n",
              "      <th>movie_index</th>\n",
              "    </tr>\n",
              "  </thead>\n",
              "  <tbody>\n",
              "    <tr>\n",
              "      <th>0</th>\n",
              "      <td>1</td>\n",
              "      <td>31</td>\n",
              "      <td>2.5</td>\n",
              "      <td>1260759144</td>\n",
              "      <td>0</td>\n",
              "      <td>0</td>\n",
              "    </tr>\n",
              "    <tr>\n",
              "      <th>1</th>\n",
              "      <td>1</td>\n",
              "      <td>1029</td>\n",
              "      <td>3.0</td>\n",
              "      <td>1260759179</td>\n",
              "      <td>0</td>\n",
              "      <td>1</td>\n",
              "    </tr>\n",
              "    <tr>\n",
              "      <th>2</th>\n",
              "      <td>1</td>\n",
              "      <td>1061</td>\n",
              "      <td>3.0</td>\n",
              "      <td>1260759182</td>\n",
              "      <td>0</td>\n",
              "      <td>2</td>\n",
              "    </tr>\n",
              "    <tr>\n",
              "      <th>3</th>\n",
              "      <td>1</td>\n",
              "      <td>1129</td>\n",
              "      <td>2.0</td>\n",
              "      <td>1260759185</td>\n",
              "      <td>0</td>\n",
              "      <td>3</td>\n",
              "    </tr>\n",
              "    <tr>\n",
              "      <th>4</th>\n",
              "      <td>1</td>\n",
              "      <td>1172</td>\n",
              "      <td>4.0</td>\n",
              "      <td>1260759205</td>\n",
              "      <td>0</td>\n",
              "      <td>4</td>\n",
              "    </tr>\n",
              "  </tbody>\n",
              "</table>\n",
              "</div>"
            ],
            "text/plain": [
              "   userId  movieId  rating   timestamp  user_index  movie_index\n",
              "0       1       31     2.5  1260759144           0            0\n",
              "1       1     1029     3.0  1260759179           0            1\n",
              "2       1     1061     3.0  1260759182           0            2\n",
              "3       1     1129     2.0  1260759185           0            3\n",
              "4       1     1172     4.0  1260759205           0            4"
            ]
          },
          "metadata": {
            "tags": []
          },
          "execution_count": 16
        }
      ]
    },
    {
      "cell_type": "markdown",
      "metadata": {
        "id": "AY_5WME7DoJw"
      },
      "source": [
        "### Scaling the ratings\n",
        "\n",
        "As is good when working with ``gradient descent``, it helps to have our values on a similar range, and for that to be between 0 and 1. We can use the ``MinMaxScaler`` from ``Scikit-Learn`` to scale our ratings to between 0 and 1"
      ]
    },
    {
      "cell_type": "code",
      "metadata": {
        "colab": {
          "base_uri": "https://localhost:8080/"
        },
        "id": "J6JTsQbGDoJw",
        "outputId": "533c1a34-931c-4fb6-d03b-99b5b6308681"
      },
      "source": [
        "df[\"rating\"].describe()"
      ],
      "execution_count": 19,
      "outputs": [
        {
          "output_type": "execute_result",
          "data": {
            "text/plain": [
              "count    100004.000000\n",
              "mean          3.543608\n",
              "std           1.058064\n",
              "min           0.500000\n",
              "25%           3.000000\n",
              "50%           4.000000\n",
              "75%           4.000000\n",
              "max           5.000000\n",
              "Name: rating, dtype: float64"
            ]
          },
          "metadata": {
            "tags": []
          },
          "execution_count": 19
        }
      ]
    },
    {
      "cell_type": "code",
      "metadata": {
        "id": "AE4BBnPLDoJw"
      },
      "source": [
        "from sklearn.preprocessing import MinMaxScaler\n",
        "##Pick the range\n",
        "df[\"rating\"] = MinMaxScaler().fit_transform(df[\"rating\"].values.reshape(-1, 1))"
      ],
      "execution_count": null,
      "outputs": []
    },
    {
      "cell_type": "code",
      "metadata": {
        "id": "9Ihx49GbDoJw"
      },
      "source": [
        "df[\"rating\"].describe()"
      ],
      "execution_count": null,
      "outputs": []
    },
    {
      "cell_type": "markdown",
      "metadata": {
        "id": "hT3GJhYdDoJx"
      },
      "source": [
        "## Training Set\n",
        "\n",
        "We are making a **predictive model** that will take a **user** and **movie** and return a **rating**. \n",
        "\n",
        "For our training, we will make a dataset using the information we already know. In this context, our input feautres (``x``) are the movie and user indexes, and the our output (``y``) is the rating. \n",
        "\n",
        "We make a train - test split of ``10%`` to validate our model. "
      ]
    },
    {
      "cell_type": "code",
      "metadata": {
        "id": "MMa3Rej4DoJx"
      },
      "source": [
        "from sklearn.model_selection import train_test_split\n",
        "#Inputs\n",
        "x = df[[\"user_index\", \"movie_index\"]]\n",
        "#Outputs\n",
        "y = df[\"rating\"]\n",
        "#Get train-test split\n",
        "x_train, x_test, y_train, y_test = train_test_split(x, y, test_size=0.1, random_state=42)"
      ],
      "execution_count": 20,
      "outputs": []
    },
    {
      "cell_type": "markdown",
      "metadata": {
        "id": "ZY-fyZ2DDoJx"
      },
      "source": [
        "## Making a Custom Model \n",
        "\n",
        "Previously in ``Keras`` we have used to pre-existing layers, connecting them all together in using the [Sequential](https://keras.io/guides/sequential_model/) object. This allows us to fit together layers that pass information forwards in a structure that works for most **Neural Networks**.\n",
        "\n",
        "``Keras`` also has a [Model](https://keras.io/api/models/model/) object which we can **subclass**. Without getting too bogged down in the details of **Object Oriented Programming**, essentially what this means is we can take the **existing functionality** from this object and **override** certain functions to add in custom behaviour.\n",
        "\n",
        "Using the ``Model`` structure, we have something that can take advantage of a lot the things that are built into the ``Keras`` library. It can be trained, can have layers, can have parameters that can be optimised.\n",
        "\n",
        "**But**, we can also add in our own functionality. \n",
        "\n",
        "The two main functions we want to override and these are \n",
        "\n",
        "1. ``def __init__()``\n",
        "    \n",
        "    * This is called **once** when the object is first made. We can use this to define our layers \n",
        "    \n",
        "\n",
        "2. ``def call()``\n",
        "\n",
        "    * This is called everytime we want to make a forwards pass. This means it takes some **inputs** and returns some **outputs**. This is called during training, or for inference on a trained model. \n",
        "    \n",
        "### LouisNet\n",
        "\n",
        "Below, we show an **incredibly simple model**, but it should help you get an intuition for what function is called at when in the training process\n",
        "\n",
        "We can see the ``__init__()`` is called once, and then the ``call()`` is called **once per batch**, where we get the inputs for this batch and return some outputs\n",
        "\n",
        "This model doesnt actually have any parameters to train, its more to demonstrate the subclassing principle in the simplest terms"
      ]
    },
    {
      "cell_type": "code",
      "metadata": {
        "colab": {
          "base_uri": "https://localhost:8080/"
        },
        "id": "2Dg2JKXYDoJy",
        "outputId": "ae1186ec-a341-4c8f-d9f7-34367fbeaa92"
      },
      "source": [
        "#Define class and subclass keras.Model\n",
        "class LouisNet(keras.Model):\n",
        "    \n",
        "    #Override __init__()\n",
        "    def __init__(self, **kwargs):\n",
        "        super(LouisNet, self).__init__(**kwargs)\n",
        "        print(\"__init__ called\")\n",
        "    \n",
        "    #Override call()\n",
        "    def call(self, inputs):\n",
        "        tf.print(\"\\nforwards pass (new batch)\")\n",
        "        tf.print(inputs,\"\\n\")\n",
        "        #return the output (its just the input, unchanged)\n",
        "        return inputs\n",
        "\n",
        "#Make a new instance of LouisNet    \n",
        "louisNet = LouisNet()\n",
        "louisNet.compile()\n",
        "#Train\n",
        "louisNet.fit(\n",
        "    x=[[1],[2],[3],[4]],\n",
        "    y=[[5],[6],[7],[8]],\n",
        "    epochs=2,\n",
        "    batch_size=2\n",
        ")"
      ],
      "execution_count": 22,
      "outputs": [
        {
          "output_type": "stream",
          "text": [
            "__init__ called\n",
            "Epoch 1/2\n",
            "\n",
            "forwards pass (new batch)\n",
            "[[3]\n",
            " [4]] \n",
            "\n",
            "1/2 [==============>...............] - ETA: 0s - loss: 0.0000e+00\n",
            "forwards pass (new batch)\n",
            "[[1]\n",
            " [2]] \n",
            "\n",
            "2/2 [==============================] - 0s 7ms/step - loss: 0.0000e+00\n",
            "Epoch 2/2\n",
            "\n",
            "forwards pass (new batch)\n",
            "[[3]\n",
            " [1]] \n",
            "\n",
            "1/2 [==============>...............] - ETA: 0s - loss: 0.0000e+00\n",
            "forwards pass (new batch)\n",
            "[[4]\n",
            " [2]] \n",
            "\n",
            "2/2 [==============================] - 0s 10ms/step - loss: 0.0000e+00\n"
          ],
          "name": "stdout"
        },
        {
          "output_type": "execute_result",
          "data": {
            "text/plain": [
              "<tensorflow.python.keras.callbacks.History at 0x7f409d3cc210>"
            ]
          },
          "metadata": {
            "tags": []
          },
          "execution_count": 22
        }
      ]
    },
    {
      "cell_type": "markdown",
      "metadata": {
        "id": "SpJ5Eh8wDoJy"
      },
      "source": [
        "## The Dot Product Recommender Model\n",
        "\n",
        "Lets remember the model we're trying to make. \n",
        "\n",
        "\n",
        "```\n",
        "Predicted Rating = Dot Product(user_vector, item_vector) + user_bias + item_bias\n",
        "```\n",
        "\n",
        "\n",
        "Our target is to find a vector for each movie and user so that their dot product (+ their biases) is an accurate prediction for the rating that user would make for that movie. \n",
        "\n",
        "Each of these vectors will be contained in a matrix, that we call an **embedding**\n",
        "\n",
        "\n",
        "### The Embedding Layer \n",
        "\n",
        "Again, you can think of an embedding layer as a **one-hot encoding** layer the size of your **vocabulary**, followed by a **fully connected layer** the size of your embedding. \n",
        "\n",
        "Luckily, ```Keras``` has a layer already we can use, all we have to say is \n",
        "\n",
        "1. How many items we have (vocabulary size)\n",
        "\n",
        "2. The size of the embedding \n",
        "\n",
        "You might use something between 10-300, and this is something you will have to tune\n",
        "\n",
        "### New Arguments for ``__init__``\n",
        "\n",
        "Again, we will override the ```__init__()``` function, but this time we will add in some extra arguments. We can use this to pass in \n",
        "\n",
        "1. Number of users \n",
        "\n",
        "2. Number of movies\n",
        "\n",
        "3. Size of Embedding\n",
        "\n",
        "These get passed in when we make the new object \n",
        "\n",
        "```\n",
        "model = RecommenderNet(num_users, num_movies, EMBEDDING_SIZE)\n",
        "\n",
        "```\n",
        "\n",
        "### Saving Variables and ```self```\n",
        "\n",
        "Finally, the last **Object-oriented** concept we'll need allows us to save things within the object. These are sometimes called ``instance variables`` or ``fields``, but the main thing you need to know is **these are like the variables we use all the time to store objects and data**, apart from they belong to the object, and only work within this context \n",
        "\n",
        "We use the keyword ```self``` within the object to refer to itself. We can use this to make layers in the ```__init__()``` function, store them in the object, and then reuse and update them in the ```call()``` function.\n"
      ]
    },
    {
      "cell_type": "code",
      "metadata": {
        "id": "57m0zCfwDoJz"
      },
      "source": [
        "#Define the new class\n",
        "class RecommenderNet(keras.Model):\n",
        "    \n",
        "    #Override init with new arguments \n",
        "    def __init__(self, num_users, num_movies, embedding_size, **kwargs):\n",
        "        super(RecommenderNet, self).__init__(**kwargs)\n",
        "        #Make an embedding layer for users\n",
        "        self.user_embedding = layers.Embedding(\n",
        "            num_users,\n",
        "            embedding_size,\n",
        "            embeddings_initializer=\"he_normal\",\n",
        "            embeddings_regularizer=keras.regularizers.l2(1e-6),\n",
        "        )\n",
        "        #Make an embedding layer for user bias\n",
        "        self.user_bias = layers.Embedding(num_users, 1)\n",
        "        #Make an embedding layer for movies\n",
        "        self.movie_embedding = layers.Embedding(\n",
        "            num_movies,\n",
        "            embedding_size,\n",
        "            embeddings_initializer=\"he_normal\",\n",
        "            embeddings_regularizer=keras.regularizers.l2(1e-6),\n",
        "        )\n",
        "        #Make an embedding layer for movie bias\n",
        "        self.movie_bias = layers.Embedding(num_movies, 1)\n",
        "\n",
        "    def call(self, inputs):\n",
        "        #inputs contains [[user,movie],[user,movie],[user,movie]...]\n",
        "        user_vector = self.user_embedding(inputs[:, 0])\n",
        "        user_bias = self.user_bias(inputs[:, 0])\n",
        "        movie_vector = self.movie_embedding(inputs[:, 1])\n",
        "        movie_bias = self.movie_bias(inputs[:, 1])\n",
        "        #Dot product \n",
        "        dot_user_movie = tf.tensordot(user_vector, movie_vector, 2)\n",
        "        # Add all the components (including bias)\n",
        "        x = dot_user_movie + user_bias + movie_bias\n",
        "        # The sigmoid activation forces the rating to between 0 and 1\n",
        "        return tf.nn.sigmoid(x)"
      ],
      "execution_count": 24,
      "outputs": []
    },
    {
      "cell_type": "markdown",
      "metadata": {
        "id": "qLluKEvTDoJz"
      },
      "source": [
        "### Train \n",
        "\n",
        "Now we can ```compile()``` and ```fit()``` just like we would any model. \n",
        "\n",
        "\n",
        "On every forwards pass (see ``call()`` above)\n",
        "\n",
        "1. We take a batch of ``users`` and ``movies``\n",
        "\n",
        "\n",
        "2. Run them through the normal embedding and bias embedding layers respectively \n",
        "\n",
        "\n",
        "3. Get the vectors for each out \n",
        "\n",
        "\n",
        "4. Get the dot product of the user and movie vectors \n",
        "\n",
        "\n",
        "5. Add the biases \n",
        "\n",
        "\n",
        "6. Run through a sigmoid\n",
        "\n",
        "\n",
        "7. Return!"
      ]
    },
    {
      "cell_type": "code",
      "metadata": {
        "id": "tON9OMzYDoJ0"
      },
      "source": [
        "#Pick Embedding size\n",
        "EMBEDDING_SIZE = 20\n",
        "#Make new object (calls __init__())\n",
        "num_users = len(user_ids)\n",
        "num_movies = len(movie_ids)\n",
        "model = RecommenderNet(num_users, num_movies, EMBEDDING_SIZE)\n",
        "model.compile(\n",
        "    loss=tf.keras.losses.MeanSquaredError(), optimizer=keras.optimizers.Adam(learning_rate=0.001)\n",
        ")\n"
      ],
      "execution_count": 40,
      "outputs": []
    },
    {
      "cell_type": "code",
      "metadata": {
        "colab": {
          "base_uri": "https://localhost:8080/"
        },
        "id": "vJxaTxooDoJ0",
        "outputId": "55e2a8f5-fae1-4134-b959-887a086124b7"
      },
      "source": [
        "#TRAIN\n",
        "history = model.fit(\n",
        "    x=x_train,\n",
        "    y=y_train,\n",
        "    batch_size=64,\n",
        "    epochs=20,\n",
        "    validation_data=(x_test, y_test)\n",
        ")"
      ],
      "execution_count": 27,
      "outputs": [
        {
          "output_type": "stream",
          "text": [
            "Epoch 1/20\n",
            "1407/1407 [==============================] - 5s 3ms/step - loss: 8.4885 - val_loss: 7.6626\n",
            "Epoch 2/20\n",
            "1407/1407 [==============================] - 4s 3ms/step - loss: 7.5886 - val_loss: 7.6508\n",
            "Epoch 3/20\n",
            "1407/1407 [==============================] - 4s 3ms/step - loss: 7.5849 - val_loss: 7.6484\n",
            "Epoch 4/20\n",
            "1407/1407 [==============================] - 4s 3ms/step - loss: 7.5841 - val_loss: 7.6475\n",
            "Epoch 5/20\n",
            "1407/1407 [==============================] - 4s 3ms/step - loss: 7.5838 - val_loss: 7.6471\n",
            "Epoch 6/20\n",
            "1407/1407 [==============================] - 4s 3ms/step - loss: 7.5837 - val_loss: 7.6469\n",
            "Epoch 7/20\n",
            "1407/1407 [==============================] - 4s 3ms/step - loss: 7.5836 - val_loss: 7.6468\n",
            "Epoch 8/20\n",
            "1407/1407 [==============================] - 4s 3ms/step - loss: 7.5835 - val_loss: 7.6467\n",
            "Epoch 9/20\n",
            "1407/1407 [==============================] - 4s 3ms/step - loss: 7.5835 - val_loss: 7.6467\n",
            "Epoch 10/20\n",
            "1407/1407 [==============================] - 4s 3ms/step - loss: 7.5835 - val_loss: 7.6466\n",
            "Epoch 11/20\n",
            "1407/1407 [==============================] - 4s 3ms/step - loss: 7.5835 - val_loss: 7.6466\n",
            "Epoch 12/20\n",
            "1407/1407 [==============================] - 4s 3ms/step - loss: 7.5835 - val_loss: 7.6465\n",
            "Epoch 13/20\n",
            "1407/1407 [==============================] - 4s 3ms/step - loss: 7.5835 - val_loss: 7.6466\n",
            "Epoch 14/20\n",
            "1407/1407 [==============================] - 4s 3ms/step - loss: 7.5835 - val_loss: 7.6465\n",
            "Epoch 15/20\n",
            "1407/1407 [==============================] - 4s 3ms/step - loss: 7.5835 - val_loss: 7.6465\n",
            "Epoch 16/20\n",
            "1407/1407 [==============================] - 4s 3ms/step - loss: 7.5835 - val_loss: 7.6465\n",
            "Epoch 17/20\n",
            "1407/1407 [==============================] - 4s 3ms/step - loss: 7.5835 - val_loss: 7.6465\n",
            "Epoch 18/20\n",
            "1407/1407 [==============================] - 4s 3ms/step - loss: 7.5835 - val_loss: 7.6465\n",
            "Epoch 19/20\n",
            "1407/1407 [==============================] - 4s 3ms/step - loss: 7.5834 - val_loss: 7.6465\n",
            "Epoch 20/20\n",
            "1407/1407 [==============================] - 4s 3ms/step - loss: 7.5835 - val_loss: 7.6465\n"
          ],
          "name": "stdout"
        }
      ]
    },
    {
      "cell_type": "markdown",
      "metadata": {
        "id": "KPX-maiXDoJ0"
      },
      "source": [
        "### Accessing the Embeddings \n",
        "\n",
        "We can access the **embedding layers** in our model object, and access the ``trainable_weights``. This is the embedding and we can see is has a shape of ```num_users x EMBEDDING_SIZE```"
      ]
    },
    {
      "cell_type": "code",
      "metadata": {
        "scrolled": false,
        "colab": {
          "base_uri": "https://localhost:8080/"
        },
        "id": "zN5iYt93DoJ0",
        "outputId": "eb30e494-522b-4b66-aff5-cd8f99bb53ed"
      },
      "source": [
        "model.user_embedding.trainable_weights\n"
      ],
      "execution_count": 29,
      "outputs": [
        {
          "output_type": "execute_result",
          "data": {
            "text/plain": [
              "[<tf.Variable 'recommender_net_1/embedding_4/embeddings:0' shape=(671, 20) dtype=float32, numpy=\n",
              " array([[ 0.00323575,  0.00570699,  0.01023343, ..., -0.01301755,\n",
              "          0.01245636,  0.00198435],\n",
              "        [ 0.05382209,  0.06811429,  0.09230632, ..., -0.10678348,\n",
              "          0.10328662,  0.04452353],\n",
              "        [ 0.01374136,  0.02334543,  0.04015435, ..., -0.05157775,\n",
              "          0.04909866,  0.00910005],\n",
              "        ...,\n",
              "        [ 0.03227362,  0.03606731,  0.04236639, ..., -0.04617469,\n",
              "          0.04538468,  0.0296296 ],\n",
              "        [ 0.02007853,  0.03041926,  0.04551858, ..., -0.05465017,\n",
              "          0.05285931,  0.01347085],\n",
              "        [ 0.06410526,  0.08520655,  0.119528  , ..., -0.14170747,\n",
              "          0.13725142,  0.05167754]], dtype=float32)>]"
            ]
          },
          "metadata": {
            "tags": []
          },
          "execution_count": 29
        }
      ]
    },
    {
      "cell_type": "markdown",
      "metadata": {
        "id": "4c0Ji4VCDoJ0"
      },
      "source": [
        "### Making Predictions \n",
        "\n",
        "Now, we can use our trained model to make predictions, and with the predicted ratings, we can pick some recommendations!\n",
        "\n",
        "In order to get the ratings for all movies for a given user, we need to get pass in our data in the form \n",
        "\n",
        "```\n",
        "[\n",
        "    [user_id, movie_1_id],\n",
        "    [user_id, movie_2_id],\n",
        "    [user_id, movie_3_id],\n",
        "    .....\n",
        "]\n",
        "\n",
        "```"
      ]
    },
    {
      "cell_type": "code",
      "metadata": {
        "id": "fEyr-4LSsmY6"
      },
      "source": [
        "url2 = 'https://raw.githubusercontent.com/dsahla/mycourse/main/movies.csv'"
      ],
      "execution_count": 35,
      "outputs": []
    },
    {
      "cell_type": "code",
      "metadata": {
        "colab": {
          "base_uri": "https://localhost:8080/"
        },
        "id": "e3QnozQjDoJ1",
        "outputId": "0c93e6b4-0260-451a-b4ca-a23654d469f2"
      },
      "source": [
        "#Get the movie data so we can map back to names\n",
        "movie_data = pd.read_csv(url2)\n",
        "movie_data.columns"
      ],
      "execution_count": 36,
      "outputs": [
        {
          "output_type": "execute_result",
          "data": {
            "text/plain": [
              "Index(['movieId', 'title', 'genres'], dtype='object')"
            ]
          },
          "metadata": {
            "tags": []
          },
          "execution_count": 36
        }
      ]
    },
    {
      "cell_type": "markdown",
      "metadata": {
        "id": "mJ8a2CeADoJ1"
      },
      "source": [
        "### Making predictions and `argsort()`\n",
        "\n",
        "Once we have the predicted ratings for each film, we need to get the **Top N**\n",
        "\n",
        "Here we use `np.argsort()`, which does the sort based on the **ratings** but returns the **indexes** rather than the **ratings themselves**. We can then use this to look up the `movie_ids` and then the `title`."
      ]
    },
    {
      "cell_type": "code",
      "metadata": {
        "id": "GxK041L6DoJ1"
      },
      "source": [
        "user = 3\n",
        "n = 10\n",
        "#For one user, make a pair with every movie index\n",
        "x = [[user, i] for i in np.arange(num_movies)]"
      ],
      "execution_count": 37,
      "outputs": []
    },
    {
      "cell_type": "code",
      "metadata": {
        "id": "on5LOdsgDoJ2"
      },
      "source": [
        "#Predict\n",
        "predicted_ratings = model.predict(x).flatten()\n",
        "#Get Top-N indexes\n",
        "top_n_indexes = predicted_ratings.argsort()[-n:]\n",
        "#Get Movie Names\n",
        "top_n = [movie_data[movie_data[\"movieId\"]==movie_ids[i]][\"title\"] for i in top_n_indexes]"
      ],
      "execution_count": 38,
      "outputs": []
    },
    {
      "cell_type": "code",
      "metadata": {
        "colab": {
          "base_uri": "https://localhost:8080/"
        },
        "id": "Ts63XzhaDoJ2",
        "outputId": "28ae1f14-dfe5-4131-da53-5bcd1de2c6e0"
      },
      "source": [
        "top_n"
      ],
      "execution_count": 39,
      "outputs": [
        {
          "output_type": "execute_result",
          "data": {
            "text/plain": [
              "[2407    Being John Malkovich (1999)\n",
              " Name: title, dtype: object, 1393    As Good as It Gets (1997)\n",
              " Name: title, dtype: object, 1486    There's Something About Mary (1998)\n",
              " Name: title, dtype: object, 977    Godfather: Part II, The (1974)\n",
              " Name: title, dtype: object, 2004    Office Space (1999)\n",
              " Name: title, dtype: object, 309    Ace Ventura: Pet Detective (1994)\n",
              " Name: title, dtype: object, 203    Dumb & Dumber (Dumb and Dumber) (1994)\n",
              " Name: title, dtype: object, 1336    Truman Show, The (1998)\n",
              " Name: title, dtype: object, 521    Aladdin (1992)\n",
              " Name: title, dtype: object, 427    Jurassic Park (1993)\n",
              " Name: title, dtype: object]"
            ]
          },
          "metadata": {
            "tags": []
          },
          "execution_count": 39
        }
      ]
    },
    {
      "cell_type": "markdown",
      "metadata": {
        "id": "lq9E8VBZDoJ2"
      },
      "source": [
        "# Assessed Assignment 2\n",
        "\n",
        "Please remember to comment your code clearl, submit ``.ipynb`` \n",
        "\n",
        "## Task 1\n",
        "\n",
        "We're going to ask you take the trained model and write the code to make two metrics - **Diversity** and **Novelty**\n",
        "\n",
        "### Diversity \n",
        "\n",
        "This tells us what the mean diversity (1-similarity, based on movie embeddings) between each film in every users Top 10 films is.  \n",
        "\n",
        "### Novelty \n",
        "\n",
        "This tells us what the mean popularity (e.g. mean rating) of the films in every users Top 10 films is \n",
        "\n",
        "## Task 2\n",
        "\n",
        "Using a dimensionality reduction approach, plot the top 30 best rated films on a 2-D graph based on their movie embeddings "
      ]
    },
    {
      "cell_type": "code",
      "metadata": {
        "colab": {
          "base_uri": "https://localhost:8080/"
        },
        "id": "AxMzeFpL8nw_",
        "outputId": "3f8ff859-a8d5-41d2-c923-137fc1eeb8df"
      },
      "source": [
        "#Install \n",
        "!pip install scikit-surprise"
      ],
      "execution_count": 78,
      "outputs": [
        {
          "output_type": "stream",
          "text": [
            "Requirement already satisfied: scikit-surprise in /usr/local/lib/python3.7/dist-packages (1.1.1)\n",
            "Requirement already satisfied: joblib>=0.11 in /usr/local/lib/python3.7/dist-packages (from scikit-surprise) (1.0.1)\n",
            "Requirement already satisfied: scipy>=1.0.0 in /usr/local/lib/python3.7/dist-packages (from scikit-surprise) (1.4.1)\n",
            "Requirement already satisfied: six>=1.10.0 in /usr/local/lib/python3.7/dist-packages (from scikit-surprise) (1.15.0)\n",
            "Requirement already satisfied: numpy>=1.11.2 in /usr/local/lib/python3.7/dist-packages (from scikit-surprise) (1.19.5)\n"
          ],
          "name": "stdout"
        }
      ]
    },
    {
      "cell_type": "code",
      "metadata": {
        "id": "U8AcROgx6i2W"
      },
      "source": [
        "from surprise import SVD\n",
        "from surprise import KNNBaseline\n",
        "from surprise.model_selection import train_test_split\n",
        "from surprise.model_selection import LeaveOneOut\n"
      ],
      "execution_count": 85,
      "outputs": []
    },
    {
      "cell_type": "code",
      "metadata": {
        "id": "ohN8DSI98qem"
      },
      "source": [
        "print(\"\\nComputing complete recommendations, no hold outs...\")\n",
        "algo.fit(fullTrainSet)\n",
        "bigTestSet = fullTrainSet.build_anti_testset()\n",
        "allPredictions = algo.test(bigTestSet)\n",
        "topNPredicted = RecommenderMetrics.GetTopN(allPredictions, n=10)\n",
        "\n",
        "# Measure diversity of recommendations:\n",
        "print(\"\\nDiversity: \", RecommenderMetrics.Diversity(topNPredicted, simsAlgo))\n",
        "\n",
        "# Measure novelty (average popularity rank of recommendations):\n",
        "print(\"\\nNovelty (average popularity rank): \", RecommenderMetrics.Novelty(topNPredicted, rankings))"
      ],
      "execution_count": null,
      "outputs": []
    },
    {
      "cell_type": "code",
      "metadata": {
        "colab": {
          "base_uri": "https://localhost:8080/",
          "height": 163
        },
        "id": "PuK0JtNx-Mz4",
        "outputId": "3e029326-e9f1-41b6-f5ea-1aaa35737bee"
      },
      "source": [
        "surprise.similarities.cosine()"
      ],
      "execution_count": 88,
      "outputs": [
        {
          "output_type": "error",
          "ename": "NameError",
          "evalue": "ignored",
          "traceback": [
            "\u001b[0;31m---------------------------------------------------------------------------\u001b[0m",
            "\u001b[0;31mNameError\u001b[0m                                 Traceback (most recent call last)",
            "\u001b[0;32m<ipython-input-88-c13a2a6f26a2>\u001b[0m in \u001b[0;36m<module>\u001b[0;34m()\u001b[0m\n\u001b[0;32m----> 1\u001b[0;31m \u001b[0mdiversity\u001b[0m \u001b[0;34m=\u001b[0m \u001b[0msurprise\u001b[0m\u001b[0;34m.\u001b[0m\u001b[0msimilarities\u001b[0m\u001b[0;34m.\u001b[0m\u001b[0mcosine\u001b[0m\u001b[0;34m(\u001b[0m\u001b[0mTop_n\u001b[0m\u001b[0;34m)\u001b[0m\u001b[0;34m\u001b[0m\u001b[0;34m\u001b[0m\u001b[0m\n\u001b[0m",
            "\u001b[0;31mNameError\u001b[0m: name 'surprise' is not defined"
          ]
        }
      ]
    },
    {
      "cell_type": "code",
      "metadata": {
        "id": "rRiinKkT-UK3"
      },
      "source": [
        ""
      ],
      "execution_count": null,
      "outputs": []
    }
  ]
}